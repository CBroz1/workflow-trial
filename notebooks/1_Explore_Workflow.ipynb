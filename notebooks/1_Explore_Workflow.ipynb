{
 "cells": [
  {
   "cell_type": "markdown",
   "id": "d26010d6-acbc-4c90-8b62-a2448c50452d",
   "metadata": {},
   "source": [
    "# DataJoint U24 - Workflow Session"
   ]
  },
  {
   "cell_type": "markdown",
   "id": "c5ffe5d2-5b2a-45c3-8d8f-8c20efa8c5eb",
   "metadata": {},
   "source": [
    "This notebook will describe the steps to explore the lab and animal management tables created by the elements.\n",
    "Prior to using this notebook, please refer to the README for the installation instructions."
   ]
  },
  {
   "cell_type": "markdown",
   "id": "9a23624f-d260-4c4c-a4e6-a6e1f7261fbb",
   "metadata": {},
   "source": [
    "## Testing load function"
   ]
  },
  {
   "cell_type": "code",
   "execution_count": 3,
   "id": "4351c4bb-9763-4d4d-8558-37662adc930e",
   "metadata": {},
   "outputs": [
    {
     "name": "stdin",
     "output_type": "stream",
     "text": [
      "Please enter DataJoint username:  root\n",
      "Please enter DataJoint password:  ········\n"
     ]
    },
    {
     "name": "stdout",
     "output_type": "stream",
     "text": [
      "Connecting root@localhost:3306\n"
     ]
    },
    {
     "data": {
      "text/plain": [
       "DataJoint connection (connected) root@localhost:3306"
      ]
     },
     "execution_count": 3,
     "metadata": {},
     "output_type": "execute_result"
    }
   ],
   "source": [
    "# change to the upper level folder to detect dj_local_conf.json\n",
    "import os\n",
    "if os.path.basename(os.getcwd())=='notebooks': os.chdir('..')\n",
    "import datajoint as dj\n",
    "dj.conn()"
   ]
  },
  {
   "cell_type": "code",
   "execution_count": 40,
   "id": "868b79bc-f754-4d51-a327-94a209cde374",
   "metadata": {},
   "outputs": [],
   "source": [
    "import pathlib\n",
    "from workflow_trial.pipeline import subject, session, trial\n",
    "from workflow_trial.paths import get_trial_root_dir\n",
    "from element_data_loader.utils import find_full_path\n",
    "dj.config['custom'] = {\n",
    "        \"root_data_dir\": [\n",
    "            \"/Users/cb/Documents/U24_SampleData/workflow_trial_data1/\",\n",
    "            \"/Users/cb/Documents/U24_SampleData/workflow_trial_data2/\"\n",
    "        ]}\n",
    "from datajoint.user_tables import UserTable\n",
    "import inspect\n",
    "def list_tables(schema):\n",
    "  for k in dir(schema):\n",
    "     t = getattr(schema, k)\n",
    "     if inspect.isclass(t) and issubclass(t, UserTable):\n",
    "        print(k)"
   ]
  },
  {
   "cell_type": "code",
   "execution_count": 21,
   "id": "79f8f8d6-e32e-4b7b-aafe-eaac21a73192",
   "metadata": {},
   "outputs": [],
   "source": [
    "from workflow_trial.ingest import ingest_subjects, ingest_sessions\n",
    "ingest_subjects(); _ = ingest_sessions()"
   ]
  },
  {
   "cell_type": "code",
   "execution_count": 122,
   "id": "c7bc0c89-e83e-4bb5-b8f5-555a465b1f5a",
   "metadata": {},
   "outputs": [
    {
     "name": "stdout",
     "output_type": "stream",
     "text": [
      "/Users/cb/Documents/U24_SampleData/workflow_trial_data1/Bpod_Behavior_Data/BalbC_Ph_W1_LH_Randdelay_changeover_Aug08_2021_Session1.mat\n"
     ]
    }
   ],
   "source": [
    "bpods_filepath=[\"Bpod_Behavior_Data/BalbC_Ph_W1_LH_Randdelay_changeover_Aug08_2021_Session1.mat\",\n",
    "    \"Bpod_Behavior_Data/1119A_3_LoomingThreat_Dec26_2019_Session1.mat\",\n",
    "    \"Bpod_Behavior_Data_and_TrialEvents/NeuroPixels/TQ03_Dual2AFC_Jun18_2021_Session1.mat\",\n",
    "    # \"Bpod_Behavior_Data_and_TrialEvents/NeuroPixels/TrialEvents.mat\",\n",
    "    \"Bpod_Behavior_Data_and_TrialEvents/Neuralynx/TP24_Dual2AFC_Feb12_2019_Session1.mat\",\n",
    "    # \"Bpod_Behavior_Data_and_TrialEvents/Neuralynx/TrialEvents.mat\"\n",
    "               ]\n",
    "# taking first\n",
    "bpod_filepath = find_full_path(get_trial_root_dir(),bpods_filepath[0])\n",
    "print(bpod_filepath)"
   ]
  },
  {
   "cell_type": "code",
   "execution_count": 188,
   "id": "4fd05a44-9dfe-4e27-b82f-91411e87a6e2",
   "metadata": {},
   "outputs": [],
   "source": [
    "import scipy.io as spio\n",
    "def load_bpod_matfile(matlab_filepath):\n",
    "    \"\"\"\n",
    "    Loading routine for behavioral file, bpod .mat\n",
    "    \"\"\"\n",
    "    SessionData = spio.loadmat(matlab_filepath.as_posix(),\n",
    "                               squeeze_me=True,simplify_cells=True,\n",
    "                               struct_as_record=False)['SessionData']\n",
    "    return SessionData"
   ]
  },
  {
   "cell_type": "code",
   "execution_count": 199,
   "id": "8dd34c9d-d917-4c13-9383-5f4da80b6721",
   "metadata": {
    "tags": []
   },
   "outputs": [
    {
     "name": "stdout",
     "output_type": "stream",
     "text": [
      "1119A_3_LoomingThreat_Dec26_2019_Session1.mat\n",
      "Custom\n",
      "Notes\n",
      "MarkerCodes\n",
      "TQ03_Dual2AFC_Jun18_2021_Session1.mat\n",
      "Custom\n",
      "TP24_Dual2AFC_Feb12_2019_Session1.mat\n",
      "Custom\n"
     ]
    }
   ],
   "source": [
    "Standard = ['RawEvents','RawData','TrialSettings','nTrials','TrialStartTimestamp','Settings','TrialTypes']\n",
    "for f in bpods_filepath[1:]:\n",
    "    filepath = find_full_path(get_trial_root_dir(),f)\n",
    "    print(str(filepath).split(\"/\")[-1])\n",
    "    data = load_bpod_matfile(filepath)\n",
    "    for field in list(data.keys()):\n",
    "        if field not in Standard: \n",
    "            print(field)\n",
    "            # print(data[field])"
   ]
  },
  {
   "cell_type": "code",
   "execution_count": 217,
   "id": "07cff9a2-2c02-48cc-9d23-ce6d4c81c628",
   "metadata": {
    "collapsed": true,
    "jupyter": {
     "outputs_hidden": true
    },
    "tags": []
   },
   "outputs": [
    {
     "name": "stdout",
     "output_type": "stream",
     "text": [
      "BalbC_Ph_W1_LH_Randdelay_changeover_Aug08_2021_Session1.mat\n",
      "RewardAmount nan\n",
      "RewardAmount nan\n",
      "RewardAmount nan\n",
      "RewardAmount nan\n",
      "RewardAmount nan\n",
      "RewardAmount nan\n",
      "RewardAmount nan\n",
      "RewardAmount nan\n",
      "RewardAmount nan\n",
      "1119A_3_LoomingThreat_Dec26_2019_Session1.mat\n",
      "TQ03_Dual2AFC_Jun18_2021_Session1.mat\n",
      "FeedbackDelay 0.6268574714495521\n",
      "StimDelay 0.2944547748784063\n",
      "FeedbackDelay 0.7178875499064047\n",
      "StimDelay 0.27178970504944655\n",
      "FeedbackDelay 2.8843670003984934\n",
      "StimDelay 0.3851048369726737\n",
      "FeedbackDelay 2.1407255446877764\n",
      "StimDelay 0.29875678993380594\n",
      "FeedbackDelay 1.1578884707983916\n",
      "StimDelay 0.37483520678206617\n",
      "FeedbackDelay 5.601414410662132\n",
      "StimDelay 0.20663509454288095\n",
      "FeedbackDelay 1.9234691430710023\n",
      "StimDelay 0.2530836105527989\n",
      "FeedbackDelay 2.0582781374115378\n",
      "StimDelay 0.22281014275234973\n",
      "FeedbackDelay 4.698232160540173\n",
      "StimDelay 0.3419607784649046\n",
      "TP24_Dual2AFC_Feb12_2019_Session1.mat\n",
      "FeedbackDelay 0.6834884662550295\n",
      "MinSampleAud 0.35\n",
      "StimDelay 0.2754547863593935\n",
      "FeedbackDelay 1.7654699809646237\n",
      "MinSampleAud 0.35\n",
      "StimDelay 0.2649480594409866\n",
      "FeedbackDelay 5.361424561594919\n",
      "MinSampleAud 0.35\n",
      "StimDelay 0.27964450664188406\n",
      "FeedbackDelay 1.0908196671444677\n",
      "MinSampleAud 0.35\n",
      "StimDelay 0.2877908527249895\n",
      "FeedbackDelay 3.813044972495128\n",
      "LaserTrials 0.3\n",
      "MinSampleAud 0.35\n",
      "StimDelay 0.29386976738668563\n",
      "FeedbackDelay 1.8215472612403274\n",
      "LaserTrials 0.3\n",
      "MinSampleAud 0.35\n",
      "StimDelay 0.29386976738668563\n",
      "FeedbackDelay 0.8669440363697847\n",
      "LaserTrials 0.3\n",
      "MinSampleAud 0.35\n",
      "StimDelay 0.307122871401321\n",
      "FeedbackDelay 3.214860983385237\n",
      "LaserTrials 0.3\n",
      "MinSampleAud 0.35\n",
      "StimDelay 0.20714462322712018\n",
      "FeedbackDelay 0.8252311297559808\n",
      "LaserTrials 0.3\n",
      "MinSampleAud 0.35\n",
      "StimDelay 0.30219098021245117\n"
     ]
    }
   ],
   "source": [
    "#check if TrialSettings vals the same across trials\n",
    "for f in bpods_filepath:\n",
    "    filepath = find_full_path(get_trial_root_dir(),f)\n",
    "    print(str(filepath).split(\"/\")[-1])\n",
    "    data = load_bpod_matfile(filepath)\n",
    "    compare = data['TrialSettings'][0]['GUI']\n",
    "    compare_keys = list(compare.keys())\n",
    "    for n in range(1,10):#data.nTrials):\n",
    "        thisone = data['TrialSettings'][n]['GUI']\n",
    "        for k in compare_keys:\n",
    "            try: \n",
    "                if compare[k] != thisone[k]: print(k, thisone[k])\n",
    "            except ValueError: pass"
   ]
  },
  {
   "cell_type": "code",
   "execution_count": 223,
   "id": "fdf2836f-2710-48ab-b0f9-88f2e574c0b4",
   "metadata": {},
   "outputs": [
    {
     "name": "stdout",
     "output_type": "stream",
     "text": [
      "BalbC_Ph_W1_LH_Randdelay_changeover_Aug08_2021_Session1.mat\n",
      "[1 1 1 1 1 1 1 1 1 1 1 1 1 1 1 1 1 1 1 1 1 1 1 1 1 1 1 1 1 1 1 1 1 1 1 1 1\n",
      " 1 1 1 1 1 1 1 1 1 1 1 1 1 1 1 1 1 1 1 1 1 1 1 1 1 1 1 1 1 1 1 1 1 1 1 1 1\n",
      " 1 1 1 1 1 1 1 1 1 1 1 1 1 1 1 1 1 1 1 1 1 1 1 1 1 1 1 1 1 1 1 1 1 1 1 1 1\n",
      " 1 1 1 1 1 1 1 1 1 1 1 1 1 1 1 1 1 1 1 1 1 1 1 1 1 1 1 1 1 1 1 1 1 1 1 1 1\n",
      " 1 1 1 1 1 1 1 1]\n",
      "1119A_3_LoomingThreat_Dec26_2019_Session1.mat\n",
      "[1 1 1 1 1 1 1 1 3 1 1 1 1 3 1 1 1 1 1 3 1 1 1 1 3 1 1 1 1 1 2 1 1 1 3 1 1\n",
      " 1 2 1 1 1 1 1 2 1 1 1 2 1 1 1 3 1 1 1 1 3 1 1 1 3 1 1 1 2 1 1 1 2 1 1 1 1\n",
      " 2 1 1 1 1 1 3 1 1 1 1 3 1 1 1 1 3 1 1 1 1 1 2 1 1 1 3 1 1 1 2 1 1 1 1 1 2\n",
      " 1 1 1 1 1 3 1 1 1 1 2 1 1 1 1 2 1 1 1 3 1 1 1 1 3 1 1 1 1 1 2 1 1 1 3 1 1\n",
      " 1 1 2 1 1 1 2 1 1 1 2 1 1 1 1 3 1 1 1 3 1 1 1 3 1 1 1 3 1 1 1 1 1 3 1 1]\n",
      "TQ03_Dual2AFC_Jun18_2021_Session1.mat\n",
      "TP24_Dual2AFC_Feb12_2019_Session1.mat\n"
     ]
    }
   ],
   "source": [
    "# see trialtype arrays\n",
    "for f in bpods_filepath:\n",
    "    filepath = find_full_path(get_trial_root_dir(),f)\n",
    "    print(str(filepath).split(\"/\")[-1])\n",
    "    data = load_bpod_matfile(filepath)\n",
    "    try: print(data['TrialTypes'])\n",
    "    except KeyError: pass"
   ]
  },
  {
   "cell_type": "code",
   "execution_count": 239,
   "id": "deb4cc3c-0adc-476f-bbd3-2c94fc582c4e",
   "metadata": {},
   "outputs": [
    {
     "data": {
      "text/plain": [
       "{'States': {'WaitForPoke': array([0.    , 0.4043]),\n",
       "  'LeftRewardDelay': array([0.4043, 0.4044]),\n",
       "  'LeftReward': array([0.4044, 0.4371]),\n",
       "  'Drinkingleft': array([0.4371, 6.4371]),\n",
       "  'RightRewardDelay': array([nan, nan]),\n",
       "  'RightReward': array([nan, nan]),\n",
       "  'Drinkingright': array([nan, nan])},\n",
       " 'Events': {'Port1Out': array([0.374 , 0.4064, 0.4318, 1.1153, 1.1857, 2.8942, 2.9757, 3.0841]),\n",
       "  'Port1In': array([0.4043, 0.4218, 0.449 , 1.1315, 2.7218, 2.9481, 3.0511]),\n",
       "  'Tup': array([0.4044, 0.4371, 6.4371]),\n",
       "  'Port3In': 6.4193999999999996}}"
      ]
     },
     "execution_count": 239,
     "metadata": {},
     "output_type": "execute_result"
    }
   ],
   "source": [
    "temp = load_bpod_matfile(bpod_filepath)\n",
    "temp['RawEvents']['Trial'][0]"
   ]
  },
  {
   "cell_type": "code",
   "execution_count": null,
   "id": "26b37bac-b595-4fb1-9c9c-688796291cb2",
   "metadata": {},
   "outputs": [],
   "source": []
  },
  {
   "cell_type": "code",
   "execution_count": null,
   "id": "177c71ba-3964-4c22-b9fd-39b81f7c0135",
   "metadata": {},
   "outputs": [],
   "source": []
  },
  {
   "cell_type": "code",
   "execution_count": null,
   "id": "ed463726-4591-4d45-9fe2-88ea8486529d",
   "metadata": {},
   "outputs": [],
   "source": []
  },
  {
   "cell_type": "code",
   "execution_count": null,
   "id": "c2953bc1-0c9d-434b-981c-b519921d77d6",
   "metadata": {},
   "outputs": [],
   "source": []
  },
  {
   "cell_type": "markdown",
   "id": "2e19116d-bc32-4cea-9caf-f3e8eaa9b181",
   "metadata": {
    "jp-MarkdownHeadingCollapsed": true,
    "tags": []
   },
   "source": [
    "## Workflow architecture"
   ]
  },
  {
   "cell_type": "markdown",
   "id": "fcbd803e-be1d-4b1a-a539-45f8206dc274",
   "metadata": {
    "tags": []
   },
   "source": [
    "Importing the module `workflow_trial.pipeline` is sufficient to create tables inside the elements. This workflow comes prepackaged with example data and ingestion functions to populate subject, session, trialized or event tables."
   ]
  },
  {
   "cell_type": "code",
   "execution_count": null,
   "id": "1e7a0a8b-eaf1-41a1-bf08-1aff2f2812be",
   "metadata": {},
   "outputs": [],
   "source": [
    "lab.Lab()"
   ]
  },
  {
   "cell_type": "code",
   "execution_count": null,
   "id": "63679df4-3064-402b-99ce-2f553dff877b",
   "metadata": {},
   "outputs": [],
   "source": [
    "dj.Diagram(lab)"
   ]
  },
  {
   "cell_type": "code",
   "execution_count": null,
   "id": "8cf0f64b-e523-4a94-9a43-fca4ed793f82",
   "metadata": {},
   "outputs": [],
   "source": [
    "subject.Subject()"
   ]
  },
  {
   "cell_type": "code",
   "execution_count": null,
   "id": "75576be2-2984-451f-a86b-f05f9ddec6b7",
   "metadata": {},
   "outputs": [],
   "source": [
    "dj.Diagram(subject)"
   ]
  },
  {
   "cell_type": "code",
   "execution_count": null,
   "id": "5243a782-93da-40fa-b243-03ddcb230c1d",
   "metadata": {},
   "outputs": [],
   "source": [
    "session.Session()"
   ]
  },
  {
   "cell_type": "code",
   "execution_count": null,
   "id": "7e48d7c0-b7bd-4f0b-abcb-1aedc69d5310",
   "metadata": {},
   "outputs": [],
   "source": [
    "dj.Diagram(session)"
   ]
  },
  {
   "cell_type": "markdown",
   "id": "b60f5f4c-d366-4034-a40d-2d2095cb2a14",
   "metadata": {
    "jp-MarkdownHeadingCollapsed": true,
    "tags": []
   },
   "source": [
    "## Explore each table"
   ]
  },
  {
   "cell_type": "code",
   "execution_count": null,
   "id": "9c0821e1-9125-4c41-bc9c-567f53d0a5e5",
   "metadata": {},
   "outputs": [],
   "source": [
    "# check table definition with describe()\n",
    "subject.Subject.describe()"
   ]
  },
  {
   "cell_type": "markdown",
   "id": "f6c110c0-0966-4283-a0ba-a7de2ce69e25",
   "metadata": {
    "jp-MarkdownHeadingCollapsed": true,
    "tags": []
   },
   "source": [
    "## Insert data into Manual and Lookup tables"
   ]
  },
  {
   "cell_type": "markdown",
   "id": "54cf050e-882e-4672-be31-1ca3df52fa58",
   "metadata": {},
   "source": [
    "Tables in this workflow are either manual tables or lookup tables. To insert into these tables, DataJoint provide method `.insert1()` and `insert()`."
   ]
  },
  {
   "cell_type": "code",
   "execution_count": null,
   "id": "d5b43904-9711-4bce-8ae5-d0d797118dec",
   "metadata": {},
   "outputs": [],
   "source": [
    "subject.Subject.insert1(\n",
    "    dict(subject='subject1', sex='M', subject_birth_date='2020-12-30', \n",
    "         subject_description='test animal'), skip_duplicates=True)\n",
    "subject.Subject.insert1(\n",
    "    ('subject2', 'F', '2020-11-30', 'test animal'), skip_duplicates=True)"
   ]
  },
  {
   "cell_type": "markdown",
   "id": "49d43ca2-2cd3-4659-849f-5bcc09c1367e",
   "metadata": {},
   "source": [
    "`skip_duplicates=True` will prevent an error if you already have data for the primary keys in a given entry."
   ]
  },
  {
   "cell_type": "code",
   "execution_count": null,
   "id": "9bf2c953-7b4c-4a70-99fd-124a4d28171b",
   "metadata": {},
   "outputs": [],
   "source": [
    "subject.Subject()"
   ]
  },
  {
   "cell_type": "code",
   "execution_count": null,
   "id": "7a10ddab-d0fd-45a0-8183-09c1b1933e0a",
   "metadata": {},
   "outputs": [],
   "source": [
    "# `insert()` takes a list of dicts or tuples\n",
    "subject.Subject.insert(\n",
    "    [dict(subject='subject3', sex='F', subject_birth_date='2020-12-30', \n",
    "            subject_description='test animal'),\n",
    "     dict(subject='subject4', sex='M', subject_birth_date='2021-02-12', \n",
    "          subject_description='test animal')\n",
    "    ],\n",
    "    skip_duplicates=True)\n",
    "subject.Subject.insert(\n",
    "    [\n",
    "        ('subject7', 'U', '2020-08-30', 'test animal'),\n",
    "        ('subject8', 'F', '2020-09-30', 'test animal')\n",
    "    ],\n",
    "    skip_duplicates=True)"
   ]
  },
  {
   "cell_type": "code",
   "execution_count": null,
   "id": "064ddaae-3410-47fc-be22-671d2afe7fb6",
   "metadata": {},
   "outputs": [],
   "source": [
    "subject.Subject()"
   ]
  },
  {
   "cell_type": "markdown",
   "id": "c47691a0-b016-4092-a5ad-fefff93c54dd",
   "metadata": {},
   "source": [
    "For more documentation of insert, please refer to [DataJoint Docs](https://docs.datajoint.io/python/manipulation/1-Insert.html) and [DataJoint playground](https://playground.datajoint.io/)"
   ]
  },
  {
   "cell_type": "markdown",
   "id": "13f8a8ed-2656-46d8-82ba-cdf130c4873e",
   "metadata": {
    "jp-MarkdownHeadingCollapsed": true,
    "tags": []
   },
   "source": [
    "## Insert into Manual and Lookup tables with Graphical User Interface"
   ]
  },
  {
   "cell_type": "markdown",
   "id": "4775dd80-8a54-47b7-a9ba-99995db9ff1a",
   "metadata": {},
   "source": [
    "DataJoint also provides a Graphical User Interface [DataJoint Labbook](https://github.com/datajoint/datajoint-labbook) to support manual data insertions into DataJoint workflows. ![DataJoint Labbook preview](../images/DataJoint_Labbook.png)"
   ]
  }
 ],
 "metadata": {
  "kernelspec": {
   "display_name": "venv-dlc",
   "language": "python",
   "name": "venv-dlc"
  },
  "language_info": {
   "codemirror_mode": {
    "name": "ipython",
    "version": 3
   },
   "file_extension": ".py",
   "mimetype": "text/x-python",
   "name": "python",
   "nbconvert_exporter": "python",
   "pygments_lexer": "ipython3",
   "version": "3.8.12"
  }
 },
 "nbformat": 4,
 "nbformat_minor": 5
}
